{
 "cells": [
  {
   "cell_type": "code",
   "execution_count": 3,
   "id": "7a23609d",
   "metadata": {},
   "outputs": [
    {
     "name": "stdout",
     "output_type": "stream",
     "text": [
      "1 1 2 3 5 8 13 21 34 "
     ]
    }
   ],
   "source": [
    "x=0\n",
    "y=1\n",
    "z=1\n",
    "for i in range(9):\n",
    "    print(y,end=\" \")\n",
    "    x=y\n",
    "    y=z\n",
    "    z=x+y\n",
    "    "
   ]
  },
  {
   "cell_type": "code",
   "execution_count": 6,
   "id": "36b40154",
   "metadata": {},
   "outputs": [
    {
     "name": "stdout",
     "output_type": "stream",
     "text": [
      "  -1\n",
      "e -1\n",
      "d -1\n",
      "y -1\n",
      "o -1\n",
      "d -1\n",
      "a -1\n"
     ]
    }
   ],
   "source": []
  },
  {
   "cell_type": "code",
   "execution_count": 7,
   "id": "4b502c61",
   "metadata": {},
   "outputs": [
    {
     "name": "stdout",
     "output_type": "stream",
     "text": [
      "adoyde"
     ]
    }
   ],
   "source": []
  },
  {
   "cell_type": "code",
   "execution_count": 8,
   "id": "d62d7e1e",
   "metadata": {},
   "outputs": [
    {
     "name": "stdout",
     "output_type": "stream",
     "text": [
      "Number of even numbers : 4\n",
      "Number of odd numbers : 5\n"
     ]
    }
   ],
   "source": []
  },
  {
   "cell_type": "code",
   "execution_count": 9,
   "id": "da572172",
   "metadata": {},
   "outputs": [
    {
     "name": "stdout",
     "output_type": "stream",
     "text": [
      "{'1': 0, '3': 0, '4': 0, '5': 0, '6': 0, '7': 0, '2': 0}\n",
      "{'1': 1, '3': 2, '4': 3, '5': 2, '6': 3, '7': 1, '2': 1}\n"
     ]
    }
   ],
   "source": [
    "n='1345465763246'\n",
    "\n",
    "freq={}\n",
    "for i in n:\n",
    "    freq[i]=0\n",
    "    \n",
    "print(freq)    \n",
    "\n",
    "for x in n:\n",
    "    freq[x]=freq[x]+1\n",
    "    \n",
    "print(freq)  "
   ]
  },
  {
   "cell_type": "code",
   "execution_count": null,
   "id": "96c30290",
   "metadata": {},
   "outputs": [],
   "source": []
  }
 ],
 "metadata": {
  "kernelspec": {
   "display_name": "Python 3 (ipykernel)",
   "language": "python",
   "name": "python3"
  },
  "language_info": {
   "codemirror_mode": {
    "name": "ipython",
    "version": 3
   },
   "file_extension": ".py",
   "mimetype": "text/x-python",
   "name": "python",
   "nbconvert_exporter": "python",
   "pygments_lexer": "ipython3",
   "version": "3.10.0"
  }
 },
 "nbformat": 4,
 "nbformat_minor": 5
}
